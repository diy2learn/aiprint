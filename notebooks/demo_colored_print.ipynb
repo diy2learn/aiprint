{
 "cells": [
  {
   "cell_type": "code",
   "execution_count": null,
   "metadata": {
    "collapsed": true
   },
   "outputs": [],
   "source": []
  },
  {
   "cell_type": "markdown",
   "source": [
    "# hightlight_dataframe"
   ],
   "metadata": {
    "collapsed": false,
    "pycharm": {
     "name": "#%% md\n"
    }
   }
  },
  {
   "cell_type": "code",
   "execution_count": 1,
   "outputs": [
    {
     "name": "stdout",
     "output_type": "stream",
     "text": [
      "   col_0  col_1  col_2  col_3  col_4\n",
      "0      1      1      1      1      1\n",
      "\u001B[31m1      2      2      2      2      2\u001B[0m\n",
      "2      3      3      3      3      3\n",
      "\u001B[31m3      4      4      4      4      4\u001B[0m\n",
      "4      5      5      5      5      5\n"
     ]
    }
   ],
   "source": [
    "import pandas as pd\n",
    "from aiprint.core import hightlight_dataframe\n",
    "raw = {}\n",
    "for idx in range(5):\n",
    "    col = f\"col_{idx}\"\n",
    "    raw[col] = [1, 2, 3, 4, 5]\n",
    "data = pd.DataFrame(raw)\n",
    "hightlight_dataframe(data, \"col_1 % 2 == 0\")"
   ],
   "metadata": {
    "collapsed": false,
    "pycharm": {
     "name": "#%%\n"
    }
   }
  },
  {
   "cell_type": "markdown",
   "source": [
    "# highlight_dict"
   ],
   "metadata": {
    "collapsed": false,
    "pycharm": {
     "name": "#%% md\n"
    }
   }
  },
  {
   "cell_type": "code",
   "execution_count": 1,
   "outputs": [
    {
     "name": "stdout",
     "output_type": "stream",
     "text": [
      "pattern:  \"success\": (\\w+)\n",
      "{\u001B[31m\"success\": False\u001B[0m, \"other_field\": 123}\n"
     ]
    }
   ],
   "source": [
    "from aiprint.core import highlight_dict\n",
    "\n",
    "data = {\"success\": False, \"other_field\": 123}\n",
    "highlight_dict(data, \"success\")"
   ],
   "metadata": {
    "collapsed": false,
    "pycharm": {
     "name": "#%%\n"
    }
   }
  },
  {
   "cell_type": "code",
   "execution_count": 3,
   "outputs": [
    {
     "name": "stdout",
     "output_type": "stream",
     "text": [
      "pattern:  \"success\": (\\w+)\n",
      "{\u001B[32m\"success\": 1\u001B[0m, \"other_field\": 123}\n"
     ]
    }
   ],
   "source": [
    "from aiprint.core import highlight_dict\n",
    "\n",
    "data = {\"success\": 1, \"other_field\": 123}\n",
    "highlight_dict(data, \"success\")"
   ],
   "metadata": {
    "collapsed": false,
    "pycharm": {
     "name": "#%%\n"
    }
   }
  },
  {
   "cell_type": "markdown",
   "source": [
    "# highlight_text"
   ],
   "metadata": {
    "collapsed": false,
    "pycharm": {
     "name": "#%% md\n"
    }
   }
  },
  {
   "cell_type": "code",
   "execution_count": 1,
   "outputs": [
    {
     "name": "stdout",
     "output_type": "stream",
     "text": [
      "Model \u001B[31mstatus: failed\u001B[0m. Cause: corrupted input data. All-other-related-stuffs\n"
     ]
    }
   ],
   "source": [
    "from aiprint.core import highlight_text\n",
    "logs = \"Model status: failed. Cause: corrupted input data. All-other-related-stuffs\"\n",
    "highlight_text(logs, \"status\")"
   ],
   "metadata": {
    "collapsed": false,
    "pycharm": {
     "name": "#%%\n"
    }
   }
  },
  {
   "cell_type": "code",
   "execution_count": 2,
   "outputs": [
    {
     "name": "stdout",
     "output_type": "stream",
     "text": [
      "Model \u001B[32mstatus: true\u001B[0m. Cause: corrupted input data. All-other-related-stuffs\n"
     ]
    }
   ],
   "source": [
    "logs = \"Model status: true. Cause: corrupted input data. All-other-related-stuffs\"\n",
    "highlight_text(logs, \"status\")"
   ],
   "metadata": {
    "collapsed": false,
    "pycharm": {
     "name": "#%%\n"
    }
   }
  },
  {
   "cell_type": "markdown",
   "source": [
    "# cprint"
   ],
   "metadata": {
    "collapsed": false,
    "pycharm": {
     "name": "#%% md\n"
    }
   }
  },
  {
   "cell_type": "code",
   "execution_count": 1,
   "outputs": [
    {
     "name": "stdout",
     "output_type": "stream",
     "text": [
      "Model \u001B[31mstatus: failed\u001B[0m. Cause: corrupted input data. All-other-related-stuffs\n"
     ]
    }
   ],
   "source": [
    "from aiprint.core import cprint\n",
    "logs = \"Model status: failed. Cause: corrupted input data. All-other-related-stuffs\"\n",
    "cprint(logs, \"status\")"
   ],
   "metadata": {
    "collapsed": false,
    "pycharm": {
     "name": "#%%\n"
    }
   }
  },
  {
   "cell_type": "code",
   "execution_count": 2,
   "outputs": [
    {
     "name": "stdout",
     "output_type": "stream",
     "text": [
      "{\u001B[32m\"success\": 1\u001B[0m, \"other_field\": 123}\n"
     ]
    }
   ],
   "source": [
    "data = {\"success\": 1, \"other_field\": 123}\n",
    "cprint(data, \"success\")"
   ],
   "metadata": {
    "collapsed": false,
    "pycharm": {
     "name": "#%%\n"
    }
   }
  },
  {
   "cell_type": "code",
   "execution_count": 3,
   "outputs": [
    {
     "name": "stdout",
     "output_type": "stream",
     "text": [
      "{\u001B[31m\"success\": 0\u001B[0m, \"other_field\": 123}\n"
     ]
    }
   ],
   "source": [
    "data = {\"success\":0, \"other_field\": 123}\n",
    "cprint(data, \"success\")"
   ],
   "metadata": {
    "collapsed": false,
    "pycharm": {
     "name": "#%%\n"
    }
   }
  },
  {
   "cell_type": "code",
   "execution_count": 5,
   "outputs": [
    {
     "name": "stdout",
     "output_type": "stream",
     "text": [
      "   col_0  col_1  col_2  col_3  col_4\n",
      "0      1      1      1      1      1\n",
      "\u001B[31m1      2      2      2      2      2\u001B[0m\n",
      "2      3      3      3      3      3\n",
      "\u001B[31m3      4      4      4      4      4\u001B[0m\n",
      "4      5      5      5      5      5\n"
     ]
    }
   ],
   "source": [
    "import pandas as pd\n",
    "raw = {}\n",
    "for idx in range(5):\n",
    "    col = f\"col_{idx}\"\n",
    "    raw[col] = [1, 2, 3, 4, 5]\n",
    "data = pd.DataFrame(raw)\n",
    "cprint(data, \"col_1 % 2 == 0\")"
   ],
   "metadata": {
    "collapsed": false,
    "pycharm": {
     "name": "#%%\n"
    }
   }
  },
  {
   "cell_type": "code",
   "execution_count": 6,
   "outputs": [
    {
     "name": "stderr",
     "output_type": "stream",
     "text": [
      "[D 230320 18:36:46 helper:25] Can not extract status from key\n",
      "[D 230320 18:36:46 core:69] in dict-item highlight mode.\n"
     ]
    },
    {
     "name": "stdout",
     "output_type": "stream",
     "text": [
      "{'\u001B[33ma\u001B[0m': '\u001B[33mhello\u001B[0m', 'b': 'kitty'}\n"
     ]
    }
   ],
   "source": [
    "from aiprint.core import highlight_dict\n",
    "from termcolor import colored\n",
    "\n",
    "a_dict = {\n",
    "    \"a\": \"hello\",\n",
    "    \"b\": \"kitty\"\n",
    "}\n",
    "highlight_dict(a_dict, \"a\")\n"
   ],
   "metadata": {
    "collapsed": false,
    "pycharm": {
     "name": "#%%\n"
    }
   }
  },
  {
   "cell_type": "code",
   "execution_count": null,
   "outputs": [],
   "source": [],
   "metadata": {
    "collapsed": false,
    "pycharm": {
     "name": "#%%\n"
    }
   }
  }
 ],
 "metadata": {
  "kernelspec": {
   "display_name": "Python 3",
   "language": "python",
   "name": "python3"
  },
  "language_info": {
   "codemirror_mode": {
    "name": "ipython",
    "version": 2
   },
   "file_extension": ".py",
   "mimetype": "text/x-python",
   "name": "python",
   "nbconvert_exporter": "python",
   "pygments_lexer": "ipython2",
   "version": "2.7.6"
  }
 },
 "nbformat": 4,
 "nbformat_minor": 0
}