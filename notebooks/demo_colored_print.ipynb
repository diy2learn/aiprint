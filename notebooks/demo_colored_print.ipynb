{
 "cells": [
  {
   "cell_type": "code",
   "execution_count": null,
   "metadata": {
    "collapsed": true
   },
   "outputs": [],
   "source": []
  },
  {
   "cell_type": "markdown",
   "source": [
    "# hightlight_dataframe"
   ],
   "metadata": {
    "collapsed": false,
    "pycharm": {
     "name": "#%% md\n"
    }
   }
  },
  {
   "cell_type": "code",
   "execution_count": 1,
   "outputs": [
    {
     "name": "stdout",
     "output_type": "stream",
     "text": [
      "   col_0  col_1  col_2  col_3  col_4\n",
      "0      1      1      1      1      1\n",
      "\u001B[31m1      2      2      2      2      2\u001B[0m\n",
      "2      3      3      3      3      3\n",
      "\u001B[31m3      4      4      4      4      4\u001B[0m\n",
      "4      5      5      5      5      5\n"
     ]
    }
   ],
   "source": [
    "import pandas as pd\n",
    "from aiprint.core import hightlight_dataframe\n",
    "raw = {}\n",
    "for idx in range(5):\n",
    "    col = f\"col_{idx}\"\n",
    "    raw[col] = [1, 2, 3, 4, 5]\n",
    "data = pd.DataFrame(raw)\n",
    "hightlight_dataframe(data, \"col_1 % 2 == 0\")"
   ],
   "metadata": {
    "collapsed": false,
    "pycharm": {
     "name": "#%%\n"
    }
   }
  },
  {
   "cell_type": "markdown",
   "source": [
    "# highlight_dict"
   ],
   "metadata": {
    "collapsed": false,
    "pycharm": {
     "name": "#%% md\n"
    }
   }
  },
  {
   "cell_type": "code",
   "execution_count": 1,
   "outputs": [
    {
     "name": "stdout",
     "output_type": "stream",
     "text": [
      "pattern:  \"success\": (\\w+)\n",
      "{\u001B[31m\"success\": False\u001B[0m, \"other_field\": 123}\n"
     ]
    }
   ],
   "source": [
    "from aiprint.core import highlight_dict\n",
    "\n",
    "data = {\"success\": False, \"other_field\": 123}\n",
    "highlight_dict(data, \"success\")"
   ],
   "metadata": {
    "collapsed": false,
    "pycharm": {
     "name": "#%%\n"
    }
   }
  },
  {
   "cell_type": "code",
   "execution_count": 3,
   "outputs": [
    {
     "name": "stdout",
     "output_type": "stream",
     "text": [
      "pattern:  \"success\": (\\w+)\n",
      "{\u001B[32m\"success\": 1\u001B[0m, \"other_field\": 123}\n"
     ]
    }
   ],
   "source": [
    "from aiprint.core import highlight_dict\n",
    "\n",
    "data = {\"success\": 1, \"other_field\": 123}\n",
    "highlight_dict(data, \"success\")"
   ],
   "metadata": {
    "collapsed": false,
    "pycharm": {
     "name": "#%%\n"
    }
   }
  },
  {
   "cell_type": "markdown",
   "source": [
    "# highlight_text"
   ],
   "metadata": {
    "collapsed": false,
    "pycharm": {
     "name": "#%% md\n"
    }
   }
  },
  {
   "cell_type": "code",
   "execution_count": 1,
   "outputs": [
    {
     "name": "stdout",
     "output_type": "stream",
     "text": [
      "Model \u001B[31mstatus: failed\u001B[0m. Cause: corrupted input data. All-other-related-stuffs\n"
     ]
    }
   ],
   "source": [
    "from aiprint.core import highlight_text\n",
    "logs = \"Model status: failed. Cause: corrupted input data. All-other-related-stuffs\"\n",
    "highlight_text(logs, \"status\")"
   ],
   "metadata": {
    "collapsed": false,
    "pycharm": {
     "name": "#%%\n"
    }
   }
  },
  {
   "cell_type": "code",
   "execution_count": 2,
   "outputs": [
    {
     "name": "stdout",
     "output_type": "stream",
     "text": [
      "Model \u001B[32mstatus: true\u001B[0m. Cause: corrupted input data. All-other-related-stuffs\n"
     ]
    }
   ],
   "source": [
    "logs = \"Model status: true. Cause: corrupted input data. All-other-related-stuffs\"\n",
    "highlight_text(logs, \"status\")"
   ],
   "metadata": {
    "collapsed": false,
    "pycharm": {
     "name": "#%%\n"
    }
   }
  },
  {
   "cell_type": "markdown",
   "source": [
    "# cprint"
   ],
   "metadata": {
    "collapsed": false,
    "pycharm": {
     "name": "#%% md\n"
    }
   }
  },
  {
   "cell_type": "code",
   "execution_count": 33,
   "outputs": [],
   "source": [
    "\"\"\"Core functions\"\"\"\n",
    "from typing import Any\n",
    "\n",
    "import pandas as pd\n",
    "from logzero import logger\n",
    "from termcolor import colored\n",
    "\n",
    "from aiprint.helper import add_color, extract_status\n",
    "\n",
    "\n",
    "def hightlight_dataframe(data: pd.DataFrame, condition: str, color: str = \"red\"):\n",
    "    \"\"\"Highlight rows in a dataframe based-on a given condition\n",
    "\n",
    "    Examples\n",
    "    --------\n",
    "    import pandas as pd\n",
    "    data = pd.DataFrame({\"val\": [7, 8, 9, 10], \"col1\": [10, 20, 30, 40], \"col2\": [1, 2, 3, 4]})\n",
    "\n",
    "    # check one condition\n",
    "    hightlight_dataframe(data, \"val % 2 == 0\")\n",
    "\n",
    "    # check multiple conditions\n",
    "    hightlight_dataframe(data, \"col1 >= 20 & col2 <= 3\")\n",
    "\n",
    "\n",
    "    # check very large dataframe with fragmented print\n",
    "    raw = {}\n",
    "    for idx in range(30):\n",
    "        col = f\"col_{idx}\"\n",
    "        raw[col] = [1, 2, 3, 4, 5]\n",
    "    data = pd.DataFrame(raw)\n",
    "    hightlight_dataframe(data, \"col_1 % 2 == 0\")\n",
    "    \"\"\"\n",
    "    mask = data.eval(condition)\n",
    "    matched_idx = data.index[mask].tolist()\n",
    "    partitioned_lines = str(data).split(\"\\n\\n\")\n",
    "\n",
    "    # to handle when very large dataframe is printed into more than 2 sections\n",
    "    # , one parasite [n row x m col] is added\n",
    "    if len(partitioned_lines) > 2:\n",
    "        partitioned_lines = partitioned_lines[:-1]\n",
    "    colored_lines = []\n",
    "    for partitioned_str in partitioned_lines:\n",
    "        lines = partitioned_str.split(\"\\n\")\n",
    "        for idx in matched_idx:\n",
    "            idx_line = idx + 1\n",
    "            lines[idx_line] = colored(lines[idx_line], color)\n",
    "        colored_lines.append(\"\\n\".join(lines))\n",
    "    print(\"\\n\\n\".join(colored_lines))\n",
    "\n",
    "\n",
    "def highlight_dict(data: dict, key: str):\n",
    "    \"\"\"Highlight a given field of the dictionary\n",
    "\n",
    "    Examples\n",
    "    --------\n",
    "    data = {\"success\": False,\n",
    "            \"other_field\": 123}\n",
    "    highlight_dict(data, \"success\")\n",
    "    \"\"\"\n",
    "    data_str = str(data).replace(\"'\", '\"')\n",
    "    to_extract = \"(\\s?\\w+)\"\n",
    "    pattern = f'\"{key}\":{to_extract}'\n",
    "    try:\n",
    "        status = extract_status(data_str, pattern)\n",
    "        filled_pattern = pattern.replace(to_extract, status)\n",
    "        print(add_color(data_str, filled_pattern, status))\n",
    "    except TypeError as emsg:\n",
    "        logger.debug(\"in dict-item highlight mode.\")\n",
    "        highlight_dict_item(data, key)\n",
    "\n",
    "\n",
    "def highlight_dict_item(data: dict, key: str, color: str = \"yellow\"):\n",
    "    \"\"\"Highlight a given item of the dictionary\"\"\"\n",
    "    data_str = str(data)\n",
    "    item = data[key]\n",
    "    to_colors = [key, str(item)]\n",
    "    colored_text = [colored(txt, color) for txt in to_colors]\n",
    "    mapper = zip(to_colors, colored_text)\n",
    "    for to_color, colored_txt in mapper:\n",
    "        data_str = data_str.replace(to_color, colored_txt)\n",
    "    print(data_str)\n",
    "\n",
    "\n",
    "def highlight_text(data: dict, key: str):\n",
    "    \"\"\"Highlight a given field of the dictionary\n",
    "\n",
    "    Examples\n",
    "    --------\n",
    "    logs = \"Model status: failed. Cause: corrupted input data.\n",
    "            All-other-related-stuffs\"\n",
    "    highlight_text(logs, \"status\")\n",
    "    \"\"\"\n",
    "    data_str = str(data).replace(\"'\", '\"')\n",
    "    \"\"\"\n",
    "    to_extract = \"(\\s?\\w+)\"\n",
    "    sep = \"\\s?[:=]\"\n",
    "    pattern = f\"{key}{sep}{to_extract}\"\n",
    "    print(\"pattern: \", pattern)\n",
    "    \"\"\"\n",
    "    to_extract = \"\\w+\"\n",
    "    sep = \"[:=]?\"\n",
    "    query = f\"(\\s?{sep}\\s?{to_extract})\"\n",
    "    pattern = f\"{key}{query}\"\n",
    "    extracted = extract_status(data_str, pattern)\n",
    "    status = split_status(extracted, [\":\",\"=\"])\n",
    "    filled_pattern = pattern.replace(query, extracted)\n",
    "    print(add_color(data_str, filled_pattern, status))\n",
    "\n",
    "def split_status(text: str, separators: None):\n",
    "    \"\"\"Split status from `sep`\"\"\"\n",
    "    default_seps = [\":\",\"=\"]\n",
    "    seps = separators if separators else default_seps\n",
    "    for sep in seps:\n",
    "        text = text.split(sep)[-1]\n",
    "    return text\n",
    "\n",
    "def cprint(data: Any, key: str):\n",
    "    \"\"\"print with colorcode for queried key\"\"\"\n",
    "    mapper = {pd.DataFrame: hightlight_dataframe, dict: highlight_dict, str: highlight_text}\n",
    "    mapper[type(data)](data, key)\n"
   ],
   "metadata": {
    "collapsed": false,
    "pycharm": {
     "name": "#%%\n"
    }
   }
  },
  {
   "cell_type": "code",
   "execution_count": 34,
   "outputs": [
    {
     "name": "stdout",
     "output_type": "stream",
     "text": [
      "Model \u001B[31mstatus: failed\u001B[0m. Cause: corrupted input data. All-other-related-stuffs\n"
     ]
    }
   ],
   "source": [
    "#from aiprint.core import cprint\n",
    "logs = \"Model status: failed. Cause: corrupted input data. All-other-related-stuffs\"\n",
    "cprint(logs, \"status\")"
   ],
   "metadata": {
    "collapsed": false,
    "pycharm": {
     "name": "#%%\n"
    }
   }
  },
  {
   "cell_type": "code",
   "execution_count": 38,
   "outputs": [
    {
     "name": "stdout",
     "output_type": "stream",
     "text": [
      "Model \u001B[32mstatus = true\u001B[0m. Cause: corrupted input data. All-other-related-stuffs\n"
     ]
    }
   ],
   "source": [
    "logs = \"Model status = true. Cause: corrupted input data. All-other-related-stuffs\"\n",
    "cprint(logs, \"status\")"
   ],
   "metadata": {
    "collapsed": false,
    "pycharm": {
     "name": "#%%\n"
    }
   }
  },
  {
   "cell_type": "code",
   "execution_count": 30,
   "outputs": [],
   "source": [
    "#txt = \": failed\"\n",
    "#txt = \"= failed\"\n",
    "txt = \" failed\"\n",
    "for sep in [\":\",\"=\"]:\n",
    "    txt = txt.split(sep)[-1]"
   ],
   "metadata": {
    "collapsed": false,
    "pycharm": {
     "name": "#%%\n"
    }
   }
  },
  {
   "cell_type": "code",
   "execution_count": null,
   "outputs": [],
   "source": [],
   "metadata": {
    "collapsed": false,
    "pycharm": {
     "name": "#%%\n"
    }
   }
  },
  {
   "cell_type": "code",
   "execution_count": 4,
   "outputs": [
    {
     "name": "stdout",
     "output_type": "stream",
     "text": [
      "Model status= failed. Cause: corrupted input data. All-other-related-stuffs\n"
     ]
    }
   ],
   "source": [
    "from aiprint.core import cprint\n",
    "logs = \"Model status= failed. Cause: corrupted input data. All-other-related-stuffs\"\n",
    "cprint(logs, \"status\")"
   ],
   "metadata": {
    "collapsed": false,
    "pycharm": {
     "name": "#%%\n"
    }
   }
  },
  {
   "cell_type": "code",
   "execution_count": 5,
   "outputs": [
    {
     "name": "stdout",
     "output_type": "stream",
     "text": [
      "{\u001B[32m\"success\": 1\u001B[0m, \"other_field\": 123}\n"
     ]
    }
   ],
   "source": [
    "data = {\"success\": 1, \"other_field\": 123}\n",
    "cprint(data, \"success\")"
   ],
   "metadata": {
    "collapsed": false,
    "pycharm": {
     "name": "#%%\n"
    }
   }
  },
  {
   "cell_type": "code",
   "execution_count": 6,
   "outputs": [
    {
     "name": "stdout",
     "output_type": "stream",
     "text": [
      "{\u001B[31m\"success\": 0\u001B[0m, \"other_field\": 123}\n"
     ]
    }
   ],
   "source": [
    "data = {\"success\":0, \"other_field\": 123}\n",
    "cprint(data, \"success\")"
   ],
   "metadata": {
    "collapsed": false,
    "pycharm": {
     "name": "#%%\n"
    }
   }
  },
  {
   "cell_type": "code",
   "execution_count": 5,
   "outputs": [
    {
     "name": "stdout",
     "output_type": "stream",
     "text": [
      "   col_0  col_1  col_2  col_3  col_4\n",
      "0      1      1      1      1      1\n",
      "\u001B[31m1      2      2      2      2      2\u001B[0m\n",
      "2      3      3      3      3      3\n",
      "\u001B[31m3      4      4      4      4      4\u001B[0m\n",
      "4      5      5      5      5      5\n"
     ]
    }
   ],
   "source": [
    "import pandas as pd\n",
    "raw = {}\n",
    "for idx in range(5):\n",
    "    col = f\"col_{idx}\"\n",
    "    raw[col] = [1, 2, 3, 4, 5]\n",
    "data = pd.DataFrame(raw)\n",
    "cprint(data, \"col_1 % 2 == 0\")"
   ],
   "metadata": {
    "collapsed": false,
    "pycharm": {
     "name": "#%%\n"
    }
   }
  },
  {
   "cell_type": "code",
   "execution_count": 6,
   "outputs": [
    {
     "name": "stderr",
     "output_type": "stream",
     "text": [
      "[D 230320 18:36:46 helper:25] Can not extract status from key\n",
      "[D 230320 18:36:46 core:69] in dict-item highlight mode.\n"
     ]
    },
    {
     "name": "stdout",
     "output_type": "stream",
     "text": [
      "{'\u001B[33ma\u001B[0m': '\u001B[33mhello\u001B[0m', 'b': 'kitty'}\n"
     ]
    }
   ],
   "source": [
    "from aiprint.core import highlight_dict\n",
    "from termcolor import colored\n",
    "\n",
    "a_dict = {\n",
    "    \"a\": \"hello\",\n",
    "    \"b\": \"kitty\"\n",
    "}\n",
    "highlight_dict(a_dict, \"a\")\n"
   ],
   "metadata": {
    "collapsed": false,
    "pycharm": {
     "name": "#%%\n"
    }
   }
  },
  {
   "cell_type": "code",
   "execution_count": null,
   "outputs": [],
   "source": [],
   "metadata": {
    "collapsed": false,
    "pycharm": {
     "name": "#%%\n"
    }
   }
  }
 ],
 "metadata": {
  "kernelspec": {
   "display_name": "Python 3",
   "language": "python",
   "name": "python3"
  },
  "language_info": {
   "codemirror_mode": {
    "name": "ipython",
    "version": 2
   },
   "file_extension": ".py",
   "mimetype": "text/x-python",
   "name": "python",
   "nbconvert_exporter": "python",
   "pygments_lexer": "ipython2",
   "version": "2.7.6"
  }
 },
 "nbformat": 4,
 "nbformat_minor": 0
}